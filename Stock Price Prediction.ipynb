{
 "cells": [
  {
   "cell_type": "markdown",
   "id": "4b7e9fa5",
   "metadata": {},
   "source": [
    "# Stock Price Prediction (BBCA)"
   ]
  },
  {
   "cell_type": "markdown",
   "id": "5123a219",
   "metadata": {},
   "source": [
    "## by Nurul Amira"
   ]
  },
  {
   "cell_type": "markdown",
   "id": "352cecf9",
   "metadata": {},
   "source": [
    "#### Dataset diambil dari platform penyedia informasi saham (Yahoo Finance)\n",
    "1. Prediksi saham akan dilakukan menggunakan dataset saham BBCA (PT Bank Cental Asia Tbk)\n",
    "2. Histori saham diambil dari rentang tanggal 10-07-2015 sampai 10-07-2023\n",
    "3. Prediksi akan dilakukan menggunakan Artificial Reccurent Neural Network (RNN)\n",
    "4. RNN yang akan digunakan adalah model LSTM (Long Short Term Memory)\n",
    "5. LSTM akan memprediksi harga penutupan (close) dari saham BBCA"
   ]
  },
  {
   "cell_type": "code",
   "execution_count": 1,
   "id": "da8dcf31",
   "metadata": {},
   "outputs": [],
   "source": [
    "#import libraries\n",
    "import math\n",
    "import pandas as pd\n",
    "import numpy as np\n",
    "import seaborn as sns\n",
    "import matplotlib.pyplot as plt\n",
    "from sklearn.preprocessing import MinMaxScaler\n",
    "from keras.models import Sequential\n",
    "from keras.layers import Dense, LSTM\n",
    "plt.style.use('fivethirtyeight')"
   ]
  },
  {
   "cell_type": "code",
   "execution_count": 2,
   "id": "ff24c620",
   "metadata": {
    "scrolled": true
   },
   "outputs": [
    {
     "data": {
      "text/html": [
       "<div>\n",
       "<style scoped>\n",
       "    .dataframe tbody tr th:only-of-type {\n",
       "        vertical-align: middle;\n",
       "    }\n",
       "\n",
       "    .dataframe tbody tr th {\n",
       "        vertical-align: top;\n",
       "    }\n",
       "\n",
       "    .dataframe thead th {\n",
       "        text-align: right;\n",
       "    }\n",
       "</style>\n",
       "<table border=\"1\" class=\"dataframe\">\n",
       "  <thead>\n",
       "    <tr style=\"text-align: right;\">\n",
       "      <th></th>\n",
       "      <th>Date</th>\n",
       "      <th>Open</th>\n",
       "      <th>High</th>\n",
       "      <th>Low</th>\n",
       "      <th>Close</th>\n",
       "      <th>Adj Close</th>\n",
       "      <th>Volume</th>\n",
       "    </tr>\n",
       "  </thead>\n",
       "  <tbody>\n",
       "    <tr>\n",
       "      <th>0</th>\n",
       "      <td>2015-07-10</td>\n",
       "      <td>2650.0</td>\n",
       "      <td>2680.0</td>\n",
       "      <td>2650.0</td>\n",
       "      <td>2660.0</td>\n",
       "      <td>2340.492188</td>\n",
       "      <td>42836500</td>\n",
       "    </tr>\n",
       "    <tr>\n",
       "      <th>1</th>\n",
       "      <td>2015-07-13</td>\n",
       "      <td>2660.0</td>\n",
       "      <td>2710.0</td>\n",
       "      <td>2660.0</td>\n",
       "      <td>2700.0</td>\n",
       "      <td>2375.687500</td>\n",
       "      <td>53040500</td>\n",
       "    </tr>\n",
       "    <tr>\n",
       "      <th>2</th>\n",
       "      <td>2015-07-14</td>\n",
       "      <td>2710.0</td>\n",
       "      <td>2730.0</td>\n",
       "      <td>2700.0</td>\n",
       "      <td>2720.0</td>\n",
       "      <td>2393.285889</td>\n",
       "      <td>41833500</td>\n",
       "    </tr>\n",
       "    <tr>\n",
       "      <th>3</th>\n",
       "      <td>2015-07-15</td>\n",
       "      <td>2695.0</td>\n",
       "      <td>2700.0</td>\n",
       "      <td>2680.0</td>\n",
       "      <td>2700.0</td>\n",
       "      <td>2375.687500</td>\n",
       "      <td>61445000</td>\n",
       "    </tr>\n",
       "    <tr>\n",
       "      <th>4</th>\n",
       "      <td>2015-07-22</td>\n",
       "      <td>2715.0</td>\n",
       "      <td>2715.0</td>\n",
       "      <td>2655.0</td>\n",
       "      <td>2710.0</td>\n",
       "      <td>2384.486328</td>\n",
       "      <td>89975500</td>\n",
       "    </tr>\n",
       "    <tr>\n",
       "      <th>...</th>\n",
       "      <td>...</td>\n",
       "      <td>...</td>\n",
       "      <td>...</td>\n",
       "      <td>...</td>\n",
       "      <td>...</td>\n",
       "      <td>...</td>\n",
       "      <td>...</td>\n",
       "    </tr>\n",
       "    <tr>\n",
       "      <th>1983</th>\n",
       "      <td>2023-07-03</td>\n",
       "      <td>9025.0</td>\n",
       "      <td>9075.0</td>\n",
       "      <td>9025.0</td>\n",
       "      <td>9075.0</td>\n",
       "      <td>9075.000000</td>\n",
       "      <td>108855900</td>\n",
       "    </tr>\n",
       "    <tr>\n",
       "      <th>1984</th>\n",
       "      <td>2023-07-04</td>\n",
       "      <td>9150.0</td>\n",
       "      <td>9150.0</td>\n",
       "      <td>9050.0</td>\n",
       "      <td>9050.0</td>\n",
       "      <td>9050.000000</td>\n",
       "      <td>35049300</td>\n",
       "    </tr>\n",
       "    <tr>\n",
       "      <th>1985</th>\n",
       "      <td>2023-07-05</td>\n",
       "      <td>9050.0</td>\n",
       "      <td>9075.0</td>\n",
       "      <td>9025.0</td>\n",
       "      <td>9050.0</td>\n",
       "      <td>9050.000000</td>\n",
       "      <td>44609200</td>\n",
       "    </tr>\n",
       "    <tr>\n",
       "      <th>1986</th>\n",
       "      <td>2023-07-06</td>\n",
       "      <td>9050.0</td>\n",
       "      <td>9100.0</td>\n",
       "      <td>9025.0</td>\n",
       "      <td>9075.0</td>\n",
       "      <td>9075.000000</td>\n",
       "      <td>52532400</td>\n",
       "    </tr>\n",
       "    <tr>\n",
       "      <th>1987</th>\n",
       "      <td>2023-07-07</td>\n",
       "      <td>9025.0</td>\n",
       "      <td>9100.0</td>\n",
       "      <td>9025.0</td>\n",
       "      <td>9025.0</td>\n",
       "      <td>9025.000000</td>\n",
       "      <td>37641300</td>\n",
       "    </tr>\n",
       "  </tbody>\n",
       "</table>\n",
       "<p>1988 rows × 7 columns</p>\n",
       "</div>"
      ],
      "text/plain": [
       "            Date    Open    High     Low   Close    Adj Close     Volume\n",
       "0     2015-07-10  2650.0  2680.0  2650.0  2660.0  2340.492188   42836500\n",
       "1     2015-07-13  2660.0  2710.0  2660.0  2700.0  2375.687500   53040500\n",
       "2     2015-07-14  2710.0  2730.0  2700.0  2720.0  2393.285889   41833500\n",
       "3     2015-07-15  2695.0  2700.0  2680.0  2700.0  2375.687500   61445000\n",
       "4     2015-07-22  2715.0  2715.0  2655.0  2710.0  2384.486328   89975500\n",
       "...          ...     ...     ...     ...     ...          ...        ...\n",
       "1983  2023-07-03  9025.0  9075.0  9025.0  9075.0  9075.000000  108855900\n",
       "1984  2023-07-04  9150.0  9150.0  9050.0  9050.0  9050.000000   35049300\n",
       "1985  2023-07-05  9050.0  9075.0  9025.0  9050.0  9050.000000   44609200\n",
       "1986  2023-07-06  9050.0  9100.0  9025.0  9075.0  9075.000000   52532400\n",
       "1987  2023-07-07  9025.0  9100.0  9025.0  9025.0  9025.000000   37641300\n",
       "\n",
       "[1988 rows x 7 columns]"
      ]
     },
     "execution_count": 2,
     "metadata": {},
     "output_type": "execute_result"
    }
   ],
   "source": [
    "# menampilkan dataset\n",
    "df = pd.read_csv('BBCA.JK.csv').dropna(axis=0)\n",
    "df"
   ]
  },
  {
   "cell_type": "markdown",
   "id": "84e150d3",
   "metadata": {},
   "source": [
    "#### Eksplorasi Dataset"
   ]
  },
  {
   "cell_type": "code",
   "execution_count": 3,
   "id": "d025a26b",
   "metadata": {},
   "outputs": [
    {
     "name": "stdout",
     "output_type": "stream",
     "text": [
      "<class 'pandas.core.frame.DataFrame'>\n",
      "RangeIndex: 1988 entries, 0 to 1987\n",
      "Data columns (total 7 columns):\n",
      " #   Column     Non-Null Count  Dtype  \n",
      "---  ------     --------------  -----  \n",
      " 0   Date       1988 non-null   object \n",
      " 1   Open       1988 non-null   float64\n",
      " 2   High       1988 non-null   float64\n",
      " 3   Low        1988 non-null   float64\n",
      " 4   Close      1988 non-null   float64\n",
      " 5   Adj Close  1988 non-null   float64\n",
      " 6   Volume     1988 non-null   int64  \n",
      "dtypes: float64(5), int64(1), object(1)\n",
      "memory usage: 108.8+ KB\n"
     ]
    }
   ],
   "source": [
    "df.info()"
   ]
  },
  {
   "cell_type": "code",
   "execution_count": 4,
   "id": "d10299d8",
   "metadata": {},
   "outputs": [
    {
     "data": {
      "text/plain": [
       "(1988, 7)"
      ]
     },
     "execution_count": 4,
     "metadata": {},
     "output_type": "execute_result"
    }
   ],
   "source": [
    "# menampilkan jumlah kolom dan baris yang dimiliko oleh dataset\n",
    "df.shape"
   ]
  },
  {
   "cell_type": "code",
   "execution_count": 5,
   "id": "4c136ce5",
   "metadata": {},
   "outputs": [],
   "source": [
    "df.drop(['Open', 'High', 'Low', 'Adj Close', 'Volume'], axis='columns', inplace=True)"
   ]
  },
  {
   "cell_type": "code",
   "execution_count": 6,
   "id": "09fd2162",
   "metadata": {},
   "outputs": [
    {
     "data": {
      "text/plain": [
       "DatetimeIndex(['2015-07-10', '2015-07-13', '2015-07-14', '2015-07-15',\n",
       "               '2015-07-22', '2015-07-23', '2015-07-24', '2015-07-27',\n",
       "               '2015-07-28', '2015-07-29',\n",
       "               ...\n",
       "               '2023-06-21', '2023-06-22', '2023-06-23', '2023-06-26',\n",
       "               '2023-06-27', '2023-07-03', '2023-07-04', '2023-07-05',\n",
       "               '2023-07-06', '2023-07-07'],\n",
       "              dtype='datetime64[ns]', name='Date', length=1988, freq=None)"
      ]
     },
     "execution_count": 6,
     "metadata": {},
     "output_type": "execute_result"
    }
   ],
   "source": [
    "# mengubah tanggal menjadi index\n",
    "con = df['Date']\n",
    "df['Date'] = pd.to_datetime(df['Date'])\n",
    "df.set_index('Date', inplace=True)\n",
    "# cek tipe data dari index\n",
    "df.index"
   ]
  },
  {
   "cell_type": "code",
   "execution_count": 7,
   "id": "a8008dc9",
   "metadata": {},
   "outputs": [
    {
     "data": {
      "text/html": [
       "<div>\n",
       "<style scoped>\n",
       "    .dataframe tbody tr th:only-of-type {\n",
       "        vertical-align: middle;\n",
       "    }\n",
       "\n",
       "    .dataframe tbody tr th {\n",
       "        vertical-align: top;\n",
       "    }\n",
       "\n",
       "    .dataframe thead th {\n",
       "        text-align: right;\n",
       "    }\n",
       "</style>\n",
       "<table border=\"1\" class=\"dataframe\">\n",
       "  <thead>\n",
       "    <tr style=\"text-align: right;\">\n",
       "      <th></th>\n",
       "      <th>Close</th>\n",
       "    </tr>\n",
       "    <tr>\n",
       "      <th>Date</th>\n",
       "      <th></th>\n",
       "    </tr>\n",
       "  </thead>\n",
       "  <tbody>\n",
       "    <tr>\n",
       "      <th>2015-07-10</th>\n",
       "      <td>2660.0</td>\n",
       "    </tr>\n",
       "    <tr>\n",
       "      <th>2015-07-13</th>\n",
       "      <td>2700.0</td>\n",
       "    </tr>\n",
       "    <tr>\n",
       "      <th>2015-07-14</th>\n",
       "      <td>2720.0</td>\n",
       "    </tr>\n",
       "    <tr>\n",
       "      <th>2015-07-15</th>\n",
       "      <td>2700.0</td>\n",
       "    </tr>\n",
       "    <tr>\n",
       "      <th>2015-07-22</th>\n",
       "      <td>2710.0</td>\n",
       "    </tr>\n",
       "    <tr>\n",
       "      <th>...</th>\n",
       "      <td>...</td>\n",
       "    </tr>\n",
       "    <tr>\n",
       "      <th>2023-07-03</th>\n",
       "      <td>9075.0</td>\n",
       "    </tr>\n",
       "    <tr>\n",
       "      <th>2023-07-04</th>\n",
       "      <td>9050.0</td>\n",
       "    </tr>\n",
       "    <tr>\n",
       "      <th>2023-07-05</th>\n",
       "      <td>9050.0</td>\n",
       "    </tr>\n",
       "    <tr>\n",
       "      <th>2023-07-06</th>\n",
       "      <td>9075.0</td>\n",
       "    </tr>\n",
       "    <tr>\n",
       "      <th>2023-07-07</th>\n",
       "      <td>9025.0</td>\n",
       "    </tr>\n",
       "  </tbody>\n",
       "</table>\n",
       "<p>1988 rows × 1 columns</p>\n",
       "</div>"
      ],
      "text/plain": [
       "             Close\n",
       "Date              \n",
       "2015-07-10  2660.0\n",
       "2015-07-13  2700.0\n",
       "2015-07-14  2720.0\n",
       "2015-07-15  2700.0\n",
       "2015-07-22  2710.0\n",
       "...            ...\n",
       "2023-07-03  9075.0\n",
       "2023-07-04  9050.0\n",
       "2023-07-05  9050.0\n",
       "2023-07-06  9075.0\n",
       "2023-07-07  9025.0\n",
       "\n",
       "[1988 rows x 1 columns]"
      ]
     },
     "execution_count": 7,
     "metadata": {},
     "output_type": "execute_result"
    }
   ],
   "source": [
    "# menampilkan df\n",
    "df"
   ]
  },
  {
   "cell_type": "code",
   "execution_count": 8,
   "id": "40b64336",
   "metadata": {},
   "outputs": [
    {
     "data": {
      "text/plain": [
       "Date\n",
       "2015-07-10    2660.0\n",
       "2015-07-13    2700.0\n",
       "2015-07-14    2720.0\n",
       "2015-07-15    2700.0\n",
       "2015-07-22    2710.0\n",
       "2015-07-23    2750.0\n",
       "2015-07-24    2745.0\n",
       "2015-07-27    2690.0\n",
       "2015-07-28    2600.0\n",
       "2015-07-29    2570.0\n",
       "Name: Close, dtype: float64"
      ]
     },
     "execution_count": 8,
     "metadata": {},
     "output_type": "execute_result"
    }
   ],
   "source": [
    "# menginisialkan variabel Close sebagai data time series\n",
    "ts = df['Close']\n",
    "ts.head(10)"
   ]
  },
  {
   "cell_type": "markdown",
   "id": "8ea62ae3",
   "metadata": {},
   "source": [
    "#### Visualisasi Close Price History"
   ]
  },
  {
   "cell_type": "code",
   "execution_count": 9,
   "id": "154712f2",
   "metadata": {},
   "outputs": [
    {
     "data": {
      "image/png": "[encoded data removed]",
      "text/plain": [
       "<Figure size 1600x800 with 1 Axes>"
      ]
     },
     "metadata": {},
     "output_type": "display_data"
    }
   ],
   "source": [
    "plt.figure(figsize=(16,8))\n",
    "plt.title('Close Price Movement')\n",
    "plt.plot(df['Close'])\n",
    "plt.xlabel('Date', fontsize=18)\n",
    "plt.ylabel('Close Price in Rp', fontsize=18)\n",
    "plt.show()"
   ]
  },
  {
   "cell_type": "markdown",
   "id": "5603f40d",
   "metadata": {},
   "source": [
    "#### Uji Stasioneritas Data\n",
    "membuat data frame baru dengan Close dan diubah ke dalam bentuk array. Keudian variabel digunakan untuk menyimpan dataset. Dengan taining dataset 80% dan Testing dataset 20%"
   ]
  },
  {
   "cell_type": "code",
   "execution_count": 10,
   "id": "4dad603a",
   "metadata": {},
   "outputs": [
    {
     "data": {
      "text/plain": [
       "1988"
      ]
     },
     "execution_count": 10,
     "metadata": {},
     "output_type": "execute_result"
    }
   ],
   "source": [
    "# membuat dataframe baru dari kolom Close\n",
    "data = df.filter(['Close'])\n",
    "# konversi dataframe menjadi numpy array\n",
    "dataset = data.values\n",
    "len(dataset)"
   ]
  },
  {
   "cell_type": "code",
   "execution_count": 11,
   "id": "3ee2689b",
   "metadata": {},
   "outputs": [
    {
     "data": {
      "text/plain": [
       "1591"
      ]
     },
     "execution_count": 11,
     "metadata": {},
     "output_type": "execute_result"
    }
   ],
   "source": [
    "# menghitung jumlah baris pada model untuk di training\n",
    "training_data_size = math.ceil(len(dataset)*.8)\n",
    "training_data_size"
   ]
  },
  {
   "cell_type": "markdown",
   "id": "3eb7b2e8",
   "metadata": {},
   "source": [
    "#### sekarang skala kumpulan data menjadi nilai antara 0 dan 1"
   ]
  },
  {
   "cell_type": "code",
   "execution_count": 12,
   "id": "95d70353",
   "metadata": {},
   "outputs": [
    {
     "data": {
      "text/plain": [
       "array([[0.05681818],\n",
       "       [0.0625    ],\n",
       "       [0.06534091],\n",
       "       ...,\n",
       "       [0.96448864],\n",
       "       [0.96803977],\n",
       "       [0.9609375 ]])"
      ]
     },
     "execution_count": 12,
     "metadata": {},
     "output_type": "execute_result"
    }
   ],
   "source": [
    "scaler = MinMaxScaler(feature_range=(0,1))\n",
    "scaled_data = scaler.fit_transform(dataset)\n",
    "scaled_data"
   ]
  },
  {
   "cell_type": "markdown",
   "id": "21b6f817",
   "metadata": {},
   "source": [
    "Membuat kesimpulan dataset yang berisi nilai harga Close 50 hari terakhir yang digunakan untuk memprediksi nilai harga Close ke-51. Jadi kolom pertama dalam dataset 'x_train' berisi nilai dari dataset index 0 hingga 49 (total nilai 50) dan kolom kedua berisi nilai dari dataset index ke-1 hingga index ke-50 (50 nilai) dan seterusnya. Kumpulan data 'y_train' berisi nilai ke-51 yang terletak pada index ke-50 untuk kolom pertama dan nilai ke-52 yang terletak pada index ke-51 dari dataset untuk nilai kedua dan seterusnya."
   ]
  },
  {
   "cell_type": "code",
   "execution_count": 13,
   "id": "4914f428",
   "metadata": {},
   "outputs": [
    {
     "name": "stdout",
     "output_type": "stream",
     "text": [
      "[array([0.05681818, 0.0625    , 0.06534091, 0.0625    , 0.06392045,\n",
      "       0.06960227, 0.06889205, 0.06107955, 0.04829545, 0.04403409,\n",
      "       0.04261364, 0.05113636, 0.05539773, 0.05681818, 0.06818182,\n",
      "       0.07102273, 0.06960227, 0.07244318, 0.06392045, 0.05255682,\n",
      "       0.05397727, 0.05539773, 0.04758523, 0.03977273, 0.02769886,\n",
      "       0.01633523, 0.        , 0.00923295, 0.015625  , 0.03693182,\n",
      "       0.04403409, 0.04545455, 0.03622159, 0.02769886, 0.02840909,\n",
      "       0.02698864, 0.01775568, 0.01420455, 0.01775568, 0.01775568,\n",
      "       0.01775568, 0.02272727, 0.01846591, 0.015625  , 0.02627841,\n",
      "       0.02769886, 0.02485795, 0.02414773, 0.01633523, 0.01420455])]\n",
      "[array([0.00497159])]\n",
      "[array([0.05681818, 0.0625    , 0.06534091, 0.0625    , 0.06392045,\n",
      "       0.06960227, 0.06889205, 0.06107955, 0.04829545, 0.04403409,\n",
      "       0.04261364, 0.05113636, 0.05539773, 0.05681818, 0.06818182,\n",
      "       0.07102273, 0.06960227, 0.07244318, 0.06392045, 0.05255682,\n",
      "       0.05397727, 0.05539773, 0.04758523, 0.03977273, 0.02769886,\n",
      "       0.01633523, 0.        , 0.00923295, 0.015625  , 0.03693182,\n",
      "       0.04403409, 0.04545455, 0.03622159, 0.02769886, 0.02840909,\n",
      "       0.02698864, 0.01775568, 0.01420455, 0.01775568, 0.01775568,\n",
      "       0.01775568, 0.02272727, 0.01846591, 0.015625  , 0.02627841,\n",
      "       0.02769886, 0.02485795, 0.02414773, 0.01633523, 0.01420455]), array([0.0625    , 0.06534091, 0.0625    , 0.06392045, 0.06960227,\n",
      "       0.06889205, 0.06107955, 0.04829545, 0.04403409, 0.04261364,\n",
      "       0.05113636, 0.05539773, 0.05681818, 0.06818182, 0.07102273,\n",
      "       0.06960227, 0.07244318, 0.06392045, 0.05255682, 0.05397727,\n",
      "       0.05539773, 0.04758523, 0.03977273, 0.02769886, 0.01633523,\n",
      "       0.        , 0.00923295, 0.015625  , 0.03693182, 0.04403409,\n",
      "       0.04545455, 0.03622159, 0.02769886, 0.02840909, 0.02698864,\n",
      "       0.01775568, 0.01420455, 0.01775568, 0.01775568, 0.01775568,\n",
      "       0.02272727, 0.01846591, 0.015625  , 0.02627841, 0.02769886,\n",
      "       0.02485795, 0.02414773, 0.01633523, 0.01420455, 0.00497159])]\n",
      "[array([0.00497159]), array([0.01704545])]\n"
     ]
    }
   ],
   "source": [
    "# membuat scaled training dataset\n",
    "train_data = scaled_data[0:training_data_size,:]\n",
    "# memisahkan data x_train dan y_train pada dataset\n",
    "x_train = []\n",
    "y_train = []\n",
    "for i in range (50, len(train_data)):\n",
    "    x_train.append(train_data[i-50:i, 0])\n",
    "    y_train.append(train_data[i-0])\n",
    "    if i<=51:\n",
    "        print(x_train)\n",
    "        print(y_train)"
   ]
  },
  {
   "cell_type": "markdown",
   "id": "8ca5bb30",
   "metadata": {},
   "source": [
    "#### Konversi dataset 'x_train' dan dataset 'y_train' ke numpy sehingga dapat digunakan untuk melatih  model LSTM"
   ]
  },
  {
   "cell_type": "code",
   "execution_count": 14,
   "id": "47a1cb2c",
   "metadata": {},
   "outputs": [
    {
     "data": {
      "text/plain": [
       "(1541, 50, 1)"
      ]
     },
     "execution_count": 14,
     "metadata": {},
     "output_type": "execute_result"
    }
   ],
   "source": [
    "# konversi 'x_train' dan dataset 'y_train' ke numpy array\n",
    "x_train, y_train = np.array(x_train), np.array(y_train)\n",
    "# mengubah bentuk data yang diterima oleh LSTM\n",
    "x_train = np.reshape(x_train, (x_train.shape[0], x_train.shape[1], 1))\n",
    "x_train.shape"
   ]
  },
  {
   "cell_type": "markdown",
   "id": "c76ca13a",
   "metadata": {},
   "source": [
    "#### Membangun model LSTM untuk memiliki 2 lapisan LSTM dengan 50 neuron dan 2 lapisan Dense, satu dengan 25 neuron dan yang lainnya dengan 1 neuron"
   ]
  },
  {
   "cell_type": "code",
   "execution_count": 15,
   "id": "1a17df06",
   "metadata": {},
   "outputs": [],
   "source": [
    "# membuat model LSTM\n",
    "model = Sequential()\n",
    "model.add(LSTM(50, return_sequences=True, input_shape=(x_train.shape[1],1)))\n",
    "model.add(LSTM(50, return_sequences=False))\n",
    "model.add(Dense(25))\n",
    "model.add(Dense(1))"
   ]
  },
  {
   "cell_type": "markdown",
   "id": "1421ce96",
   "metadata": {},
   "source": [
    "#### Kompilasi model menggunakan fungsi MSE (Mean Squared Error)"
   ]
  },
  {
   "cell_type": "code",
   "execution_count": 16,
   "id": "810407b1",
   "metadata": {},
   "outputs": [],
   "source": [
    "# compile model\n",
    "model.compile(optimizer='adam', loss='mean_squared_error')"
   ]
  },
  {
   "cell_type": "code",
   "execution_count": 17,
   "id": "2e06cec7",
   "metadata": {},
   "outputs": [
    {
     "name": "stdout",
     "output_type": "stream",
     "text": [
      "Epoch 1/10\n",
      "1541/1541 [==============================] - 28s 16ms/step - loss: 0.0015\n",
      "Epoch 2/10\n",
      "1541/1541 [==============================] - 24s 16ms/step - loss: 5.0418e-04\n",
      "Epoch 3/10\n",
      "1541/1541 [==============================] - 26s 17ms/step - loss: 4.5028e-04\n",
      "Epoch 4/10\n",
      "1541/1541 [==============================] - 25s 16ms/step - loss: 3.2359e-04\n",
      "Epoch 5/10\n",
      "1541/1541 [==============================] - 26s 17ms/step - loss: 3.1241e-04\n",
      "Epoch 6/10\n",
      "1541/1541 [==============================] - 26s 17ms/step - loss: 2.7351e-04\n",
      "Epoch 7/10\n",
      "1541/1541 [==============================] - 25s 16ms/step - loss: 2.5643e-04\n",
      "Epoch 8/10\n",
      "1541/1541 [==============================] - 27s 17ms/step - loss: 2.6315e-04\n",
      "Epoch 9/10\n",
      "1541/1541 [==============================] - 26s 17ms/step - loss: 2.5449e-04\n",
      "Epoch 10/10\n",
      "1541/1541 [==============================] - 25s 16ms/step - loss: 2.5209e-04\n"
     ]
    },
    {
     "data": {
      "text/plain": [
       "<keras.callbacks.History at 0x2090197ee20>"
      ]
     },
     "execution_count": 17,
     "metadata": {},
     "output_type": "execute_result"
    }
   ],
   "source": [
    "# train model\n",
    "model.fit(x_train, y_train, batch_size=1, epochs=10)"
   ]
  },
  {
   "cell_type": "markdown",
   "id": "0278cd63",
   "metadata": {},
   "source": [
    "#### Membuat test dataset"
   ]
  },
  {
   "cell_type": "code",
   "execution_count": 18,
   "id": "989f4131",
   "metadata": {},
   "outputs": [],
   "source": [
    "# test dataset\n",
    "test_data = scaled_data[training_data_size-50:, :]\n",
    "# membuat x_test dan y_test dataset\n",
    "x_test = []\n",
    "y_test = dataset[training_data_size:, :]\n",
    "for i in range(50, len(test_data)):\n",
    "    x_test.append(test_data[i-50:i, 0])"
   ]
  },
  {
   "cell_type": "code",
   "execution_count": 19,
   "id": "5af76163",
   "metadata": {},
   "outputs": [],
   "source": [
    "# konversi x_test ke numpy array\n",
    "x_test = np.array(x_test)"
   ]
  },
  {
   "cell_type": "code",
   "execution_count": 20,
   "id": "fa2b29f7",
   "metadata": {},
   "outputs": [],
   "source": [
    "# membentuk data yang diterima oleh LSTM\n",
    "x_test = np.reshape(x_test, (x_test.shape[0], x_test.shape[1], 1))"
   ]
  },
  {
   "cell_type": "markdown",
   "id": "3fb507ee",
   "metadata": {},
   "source": [
    "#### Prediksi Data\n",
    "Untuk mendapatkan nilai prediksi price values"
   ]
  },
  {
   "cell_type": "code",
   "execution_count": 21,
   "id": "949874e7",
   "metadata": {},
   "outputs": [
    {
     "name": "stdout",
     "output_type": "stream",
     "text": [
      "13/13 [==============================] - 1s 12ms/step\n"
     ]
    }
   ],
   "source": [
    "# mendapatkan nilai harga prediksi model\n",
    "predictions = model.predict(x_test)\n",
    "predictions = scaler.inverse_transform(predictions)"
   ]
  },
  {
   "cell_type": "code",
   "execution_count": 22,
   "id": "730c51b3",
   "metadata": {},
   "outputs": [
    {
     "data": {
      "text/plain": [
       "array([[7570.8716],\n",
       "       [7664.5435],\n",
       "       [7503.987 ],\n",
       "       [7525.93  ],\n",
       "       [7569.264 ],\n",
       "       [7574.6396],\n",
       "       [7578.4863],\n",
       "       [7531.7505],\n",
       "       [7387.0835],\n",
       "       [7496.3774],\n",
       "       [7378.535 ],\n",
       "       [7403.4033],\n",
       "       [7592.01  ],\n",
       "       [7484.735 ],\n",
       "       [7464.1353],\n",
       "       [7456.478 ],\n",
       "       [7525.65  ],\n",
       "       [7457.563 ],\n",
       "       [7480.876 ],\n",
       "       [7407.5254],\n",
       "       [7404.904 ],\n",
       "       [7402.3037],\n",
       "       [7379.6753],\n",
       "       [7594.0654],\n",
       "       [7485.104 ],\n",
       "       [7488.7085],\n",
       "       [7434.23  ],\n",
       "       [7406.465 ],\n",
       "       [7402.6455],\n",
       "       [7449.8438],\n",
       "       [7453.4634],\n",
       "       [7409.079 ],\n",
       "       [7406.8857],\n",
       "       [7428.5215],\n",
       "       [7501.261 ],\n",
       "       [7553.6064],\n",
       "       [7582.4814],\n",
       "       [7750.9883],\n",
       "       [7709.397 ],\n",
       "       [7806.6865],\n",
       "       [7804.554 ],\n",
       "       [7804.851 ],\n",
       "       [7944.1094],\n",
       "       [7852.081 ],\n",
       "       [7780.564 ],\n",
       "       [7770.5366],\n",
       "       [7861.752 ],\n",
       "       [8033.5425],\n",
       "       [7902.5776],\n",
       "       [7879.528 ],\n",
       "       [7798.307 ],\n",
       "       [7887.84  ],\n",
       "       [7865.24  ],\n",
       "       [7727.2397],\n",
       "       [7887.2656],\n",
       "       [7817.736 ],\n",
       "       [7823.5117],\n",
       "       [7892.305 ],\n",
       "       [7824.126 ],\n",
       "       [8038.6846],\n",
       "       [7852.976 ],\n",
       "       [7924.624 ],\n",
       "       [7798.3037],\n",
       "       [7962.102 ],\n",
       "       [8059.0737],\n",
       "       [7999.476 ],\n",
       "       [8023.5806],\n",
       "       [8042.6255],\n",
       "       [7994.781 ],\n",
       "       [8135.256 ],\n",
       "       [8089.856 ],\n",
       "       [8141.2446],\n",
       "       [8139.2354],\n",
       "       [8068.338 ],\n",
       "       [7992.388 ],\n",
       "       [7795.325 ],\n",
       "       [7736.6323],\n",
       "       [7920.6445],\n",
       "       [8003.445 ],\n",
       "       [8043.6636],\n",
       "       [8168.6533],\n",
       "       [8243.849 ],\n",
       "       [8295.741 ],\n",
       "       [8105.4604],\n",
       "       [7998.95  ],\n",
       "       [7982.2217],\n",
       "       [8001.805 ],\n",
       "       [7981.938 ],\n",
       "       [8009.578 ],\n",
       "       [8036.197 ],\n",
       "       [7992.414 ],\n",
       "       [7944.6206],\n",
       "       [7964.391 ],\n",
       "       [8059.0947],\n",
       "       [8017.1   ],\n",
       "       [7996.016 ],\n",
       "       [7992.1396],\n",
       "       [7847.7427],\n",
       "       [7841.263 ],\n",
       "       [7931.5093],\n",
       "       [7819.0083],\n",
       "       [7891.9873],\n",
       "       [7891.28  ],\n",
       "       [7800.5005],\n",
       "       [7796.6562],\n",
       "       [7721.533 ],\n",
       "       [7743.191 ],\n",
       "       [8005.653 ],\n",
       "       [7970.918 ],\n",
       "       [8100.536 ],\n",
       "       [8219.118 ],\n",
       "       [8295.899 ],\n",
       "       [8226.849 ],\n",
       "       [7724.1875],\n",
       "       [7617.9253],\n",
       "       [7712.392 ],\n",
       "       [7366.1523],\n",
       "       [7409.85  ],\n",
       "       [7478.8125],\n",
       "       [7660.451 ],\n",
       "       [7558.7764],\n",
       "       [7516.083 ],\n",
       "       [7483.9526],\n",
       "       [7455.698 ],\n",
       "       [7477.0005],\n",
       "       [7668.529 ],\n",
       "       [7678.854 ],\n",
       "       [7853.8833],\n",
       "       [7691.9033],\n",
       "       [7711.1333],\n",
       "       [7557.867 ],\n",
       "       [7478.0244],\n",
       "       [7682.7656],\n",
       "       [7596.7876],\n",
       "       [7462.39  ],\n",
       "       [7452.0996],\n",
       "       [7494.675 ],\n",
       "       [7427.933 ],\n",
       "       [7667.218 ],\n",
       "       [7605.0073],\n",
       "       [7731.718 ],\n",
       "       [7755.579 ],\n",
       "       [7616.531 ],\n",
       "       [7630.6265],\n",
       "       [7575.2983],\n",
       "       [7454.736 ],\n",
       "       [7400.078 ],\n",
       "       [7371.242 ],\n",
       "       [7347.9736],\n",
       "       [7349.9517],\n",
       "       [7163.269 ],\n",
       "       [7345.7285],\n",
       "       [7397.6353],\n",
       "       [7221.2803],\n",
       "       [7261.0415],\n",
       "       [7231.4326],\n",
       "       [7279.9854],\n",
       "       [7116.72  ],\n",
       "       [7133.811 ],\n",
       "       [7105.3706],\n",
       "       [7249.2593],\n",
       "       [7281.3965],\n",
       "       [7504.025 ],\n",
       "       [7514.087 ],\n",
       "       [7449.4243],\n",
       "       [7416.789 ],\n",
       "       [7407.488 ],\n",
       "       [7427.359 ],\n",
       "       [7451.618 ],\n",
       "       [7454.151 ],\n",
       "       [7598.24  ],\n",
       "       [7699.9395],\n",
       "       [7733.3   ],\n",
       "       [7902.5757],\n",
       "       [7977.6807],\n",
       "       [7983.0786],\n",
       "       [8003.999 ],\n",
       "       [7998.891 ],\n",
       "       [8042.662 ],\n",
       "       [8017.4653],\n",
       "       [8040.32  ],\n",
       "       [8062.6235],\n",
       "       [8087.694 ],\n",
       "       [7993.9717],\n",
       "       [8085.673 ],\n",
       "       [7989.6597],\n",
       "       [8037.926 ],\n",
       "       [8155.1953],\n",
       "       [8091.017 ],\n",
       "       [8236.536 ],\n",
       "       [8260.843 ],\n",
       "       [8290.119 ],\n",
       "       [8241.331 ],\n",
       "       [8308.667 ],\n",
       "       [8353.8125],\n",
       "       [8356.8545],\n",
       "       [8452.485 ],\n",
       "       [8429.723 ],\n",
       "       [8454.779 ],\n",
       "       [8451.726 ],\n",
       "       [8593.532 ],\n",
       "       [8572.167 ],\n",
       "       [8814.541 ],\n",
       "       [8531.883 ],\n",
       "       [8719.987 ],\n",
       "       [8612.944 ],\n",
       "       [8545.502 ],\n",
       "       [8537.216 ],\n",
       "       [8439.286 ],\n",
       "       [8485.491 ],\n",
       "       [8366.669 ],\n",
       "       [8391.832 ],\n",
       "       [8438.121 ],\n",
       "       [8611.122 ],\n",
       "       [8572.61  ],\n",
       "       [8626.535 ],\n",
       "       [8527.839 ],\n",
       "       [8499.828 ],\n",
       "       [8278.225 ],\n",
       "       [8363.78  ],\n",
       "       [8312.271 ],\n",
       "       [8390.971 ],\n",
       "       [8347.64  ],\n",
       "       [8328.356 ],\n",
       "       [8326.523 ],\n",
       "       [8373.887 ],\n",
       "       [8352.361 ],\n",
       "       [8568.91  ],\n",
       "       [8716.78  ],\n",
       "       [8967.369 ],\n",
       "       [8784.92  ],\n",
       "       [8640.36  ],\n",
       "       [8759.474 ],\n",
       "       [8799.225 ],\n",
       "       [8853.249 ],\n",
       "       [8855.994 ],\n",
       "       [8809.278 ],\n",
       "       [8853.24  ],\n",
       "       [8826.806 ],\n",
       "       [8898.85  ],\n",
       "       [8804.015 ],\n",
       "       [8923.13  ],\n",
       "       [8849.841 ],\n",
       "       [8900.826 ],\n",
       "       [8802.91  ],\n",
       "       [8849.563 ],\n",
       "       [8656.391 ],\n",
       "       [8772.539 ],\n",
       "       [8864.356 ],\n",
       "       [8780.327 ],\n",
       "       [8950.206 ],\n",
       "       [8925.707 ],\n",
       "       [9050.761 ],\n",
       "       [9025.735 ],\n",
       "       [9074.903 ],\n",
       "       [9023.134 ],\n",
       "       [9329.678 ],\n",
       "       [9046.096 ],\n",
       "       [8955.807 ],\n",
       "       [8816.559 ],\n",
       "       [8713.161 ],\n",
       "       [8494.513 ],\n",
       "       [8537.323 ],\n",
       "       [8610.182 ],\n",
       "       [8743.68  ],\n",
       "       [8757.495 ],\n",
       "       [8695.006 ],\n",
       "       [8573.182 ],\n",
       "       [8659.209 ],\n",
       "       [8703.666 ],\n",
       "       [8639.115 ],\n",
       "       [8734.933 ],\n",
       "       [8638.999 ],\n",
       "       [8568.748 ],\n",
       "       [8632.793 ],\n",
       "       [8656.191 ],\n",
       "       [8709.309 ],\n",
       "       [8641.226 ],\n",
       "       [8617.123 ],\n",
       "       [8612.099 ],\n",
       "       [8610.866 ],\n",
       "       [8421.381 ],\n",
       "       [8320.43  ],\n",
       "       [8358.165 ],\n",
       "       [8503.3955],\n",
       "       [8253.869 ],\n",
       "       [8206.804 ],\n",
       "       [8242.987 ],\n",
       "       [8126.884 ],\n",
       "       [8223.788 ],\n",
       "       [8392.77  ],\n",
       "       [8381.484 ],\n",
       "       [8412.695 ],\n",
       "       [8386.017 ],\n",
       "       [8311.399 ],\n",
       "       [8280.743 ],\n",
       "       [8537.859 ],\n",
       "       [8759.584 ],\n",
       "       [8777.134 ],\n",
       "       [8569.906 ],\n",
       "       [8578.506 ],\n",
       "       [8515.205 ],\n",
       "       [8750.737 ],\n",
       "       [8779.181 ],\n",
       "       [8910.797 ],\n",
       "       [8888.889 ],\n",
       "       [8961.005 ],\n",
       "       [8884.917 ],\n",
       "       [8928.859 ],\n",
       "       [8994.102 ],\n",
       "       [8924.737 ],\n",
       "       [8758.34  ],\n",
       "       [8772.018 ],\n",
       "       [8789.496 ],\n",
       "       [8746.773 ],\n",
       "       [8726.181 ],\n",
       "       [8773.758 ],\n",
       "       [8728.821 ],\n",
       "       [8826.71  ],\n",
       "       [8804.171 ],\n",
       "       [8665.746 ],\n",
       "       [8683.032 ],\n",
       "       [8534.464 ],\n",
       "       [8461.034 ],\n",
       "       [8479.001 ],\n",
       "       [8624.572 ],\n",
       "       [8634.791 ],\n",
       "       [8525.789 ],\n",
       "       [8617.268 ],\n",
       "       [8399.932 ],\n",
       "       [8396.321 ],\n",
       "       [8363.513 ],\n",
       "       [8437.188 ],\n",
       "       [8465.9   ],\n",
       "       [8568.343 ],\n",
       "       [8883.669 ],\n",
       "       [8775.285 ],\n",
       "       [8758.939 ],\n",
       "       [8863.716 ],\n",
       "       [8883.105 ],\n",
       "       [8813.328 ],\n",
       "       [8855.814 ],\n",
       "       [8827.0205],\n",
       "       [8779.527 ],\n",
       "       [8800.082 ],\n",
       "       [8846.434 ],\n",
       "       [8873.571 ],\n",
       "       [8948.401 ],\n",
       "       [8974.662 ],\n",
       "       [9048.395 ],\n",
       "       [9072.264 ],\n",
       "       [9167.898 ],\n",
       "       [9238.385 ],\n",
       "       [9192.919 ],\n",
       "       [9095.598 ],\n",
       "       [9086.072 ],\n",
       "       [8960.406 ],\n",
       "       [9028.515 ],\n",
       "       [9026.952 ],\n",
       "       [9033.753 ],\n",
       "       [8965.043 ],\n",
       "       [8964.725 ],\n",
       "       [8867.508 ],\n",
       "       [8842.691 ],\n",
       "       [8816.041 ],\n",
       "       [8746.163 ],\n",
       "       [8817.883 ],\n",
       "       [9034.559 ],\n",
       "       [9045.419 ],\n",
       "       [9174.818 ],\n",
       "       [9078.876 ],\n",
       "       [9100.617 ],\n",
       "       [9185.7   ],\n",
       "       [9185.082 ],\n",
       "       [9281.641 ],\n",
       "       [9091.392 ],\n",
       "       [9230.508 ],\n",
       "       [9174.847 ],\n",
       "       [9132.81  ],\n",
       "       [9152.559 ],\n",
       "       [9127.474 ],\n",
       "       [9176.362 ],\n",
       "       [9177.232 ],\n",
       "       [9109.109 ],\n",
       "       [9083.586 ],\n",
       "       [9079.686 ],\n",
       "       [9032.111 ],\n",
       "       [9080.08  ],\n",
       "       [9152.126 ],\n",
       "       [9086.512 ],\n",
       "       [9088.638 ],\n",
       "       [9108.317 ],\n",
       "       [9179.788 ],\n",
       "       [9111.139 ],\n",
       "       [9088.504 ],\n",
       "       [9083.361 ],\n",
       "       [9105.703 ]], dtype=float32)"
      ]
     },
     "execution_count": 22,
     "metadata": {},
     "output_type": "execute_result"
    }
   ],
   "source": [
    "predictions"
   ]
  },
  {
   "cell_type": "code",
   "execution_count": 23,
   "id": "85fa093c",
   "metadata": {},
   "outputs": [
    {
     "data": {
      "text/plain": [
       "72.7965502991184"
      ]
     },
     "execution_count": 23,
     "metadata": {},
     "output_type": "execute_result"
    }
   ],
   "source": [
    "# menghitung nilai RMSE\n",
    "rmse = np.sqrt(np.mean(predictions-y_test)**2)\n",
    "rmse"
   ]
  },
  {
   "cell_type": "code",
   "execution_count": 24,
   "id": "e91c5dbe",
   "metadata": {},
   "outputs": [
    {
     "name": "stderr",
     "output_type": "stream",
     "text": [
      "C:\\Users\\asani\\AppData\\Local\\Temp\\ipykernel_6448\\2008787383.py:4: SettingWithCopyWarning: \n",
      "A value is trying to be set on a copy of a slice from a DataFrame.\n",
      "Try using .loc[row_indexer,col_indexer] = value instead\n",
      "\n",
      "See the caveats in the documentation: https://pandas.pydata.org/pandas-docs/stable/user_guide/indexing.html#returning-a-view-versus-a-copy\n",
      "  valid['predictions'] = predictions\n"
     ]
    },
    {
     "data": {
      "image/png": "[encoded data removed]",
      "text/plain": [
       "<Figure size 1600x800 with 1 Axes>"
      ]
     },
     "metadata": {},
     "output_type": "display_data"
    }
   ],
   "source": [
    "# membuat data untuk grafik\n",
    "train = data[:training_data_size]\n",
    "valid = data[training_data_size:]\n",
    "valid['predictions'] = predictions\n",
    "\n",
    "# visualisasi data\n",
    "plt.figure(figsize=(16,8))\n",
    "plt.title('Model LSTM', fontsize=18)\n",
    "plt.xlabel('Date', fontsize=12)\n",
    "plt.ylabel('Close Price in Rp', fontsize=12)\n",
    "plt.plot(train['Close'])\n",
    "plt.plot(valid[['Close', 'predictions']])\n",
    "plt.legend(['Train', 'Val', 'Predictions'], loc='lower right')\n",
    "plt.show()"
   ]
  },
  {
   "cell_type": "code",
   "execution_count": 25,
   "id": "7ef00e36",
   "metadata": {},
   "outputs": [
    {
     "data": {
      "text/html": [
       "<div>\n",
       "<style scoped>\n",
       "    .dataframe tbody tr th:only-of-type {\n",
       "        vertical-align: middle;\n",
       "    }\n",
       "\n",
       "    .dataframe tbody tr th {\n",
       "        vertical-align: top;\n",
       "    }\n",
       "\n",
       "    .dataframe thead th {\n",
       "        text-align: right;\n",
       "    }\n",
       "</style>\n",
       "<table border=\"1\" class=\"dataframe\">\n",
       "  <thead>\n",
       "    <tr style=\"text-align: right;\">\n",
       "      <th></th>\n",
       "      <th>Close</th>\n",
       "      <th>predictions</th>\n",
       "    </tr>\n",
       "    <tr>\n",
       "      <th>Date</th>\n",
       "      <th></th>\n",
       "      <th></th>\n",
       "    </tr>\n",
       "  </thead>\n",
       "  <tbody>\n",
       "    <tr>\n",
       "      <th>2021-11-17</th>\n",
       "      <td>7575.0</td>\n",
       "      <td>7570.871582</td>\n",
       "    </tr>\n",
       "    <tr>\n",
       "      <th>2021-11-18</th>\n",
       "      <td>7400.0</td>\n",
       "      <td>7664.543457</td>\n",
       "    </tr>\n",
       "    <tr>\n",
       "      <th>2021-11-19</th>\n",
       "      <td>7425.0</td>\n",
       "      <td>7503.986816</td>\n",
       "    </tr>\n",
       "    <tr>\n",
       "      <th>2021-11-22</th>\n",
       "      <td>7475.0</td>\n",
       "      <td>7525.930176</td>\n",
       "    </tr>\n",
       "    <tr>\n",
       "      <th>2021-11-23</th>\n",
       "      <td>7475.0</td>\n",
       "      <td>7569.264160</td>\n",
       "    </tr>\n",
       "    <tr>\n",
       "      <th>...</th>\n",
       "      <td>...</td>\n",
       "      <td>...</td>\n",
       "    </tr>\n",
       "    <tr>\n",
       "      <th>2023-07-03</th>\n",
       "      <td>9075.0</td>\n",
       "      <td>9179.788086</td>\n",
       "    </tr>\n",
       "    <tr>\n",
       "      <th>2023-07-04</th>\n",
       "      <td>9050.0</td>\n",
       "      <td>9111.138672</td>\n",
       "    </tr>\n",
       "    <tr>\n",
       "      <th>2023-07-05</th>\n",
       "      <td>9050.0</td>\n",
       "      <td>9088.503906</td>\n",
       "    </tr>\n",
       "    <tr>\n",
       "      <th>2023-07-06</th>\n",
       "      <td>9075.0</td>\n",
       "      <td>9083.361328</td>\n",
       "    </tr>\n",
       "    <tr>\n",
       "      <th>2023-07-07</th>\n",
       "      <td>9025.0</td>\n",
       "      <td>9105.703125</td>\n",
       "    </tr>\n",
       "  </tbody>\n",
       "</table>\n",
       "<p>397 rows × 2 columns</p>\n",
       "</div>"
      ],
      "text/plain": [
       "             Close  predictions\n",
       "Date                           \n",
       "2021-11-17  7575.0  7570.871582\n",
       "2021-11-18  7400.0  7664.543457\n",
       "2021-11-19  7425.0  7503.986816\n",
       "2021-11-22  7475.0  7525.930176\n",
       "2021-11-23  7475.0  7569.264160\n",
       "...            ...          ...\n",
       "2023-07-03  9075.0  9179.788086\n",
       "2023-07-04  9050.0  9111.138672\n",
       "2023-07-05  9050.0  9088.503906\n",
       "2023-07-06  9075.0  9083.361328\n",
       "2023-07-07  9025.0  9105.703125\n",
       "\n",
       "[397 rows x 2 columns]"
      ]
     },
     "execution_count": 25,
     "metadata": {},
     "output_type": "execute_result"
    }
   ],
   "source": [
    "# menampilkan data harga yang valid dan prediksi\n",
    "valid"
   ]
  }
 ],
 "metadata": {
  "kernelspec": {
   "display_name": "Python 3 (ipykernel)",
   "language": "python",
   "name": "python3"
  },
  "language_info": {
   "codemirror_mode": {
    "name": "ipython",
    "version": 3
   },
   "file_extension": ".py",
   "mimetype": "text/x-python",
   "name": "python",
   "nbconvert_exporter": "python",
   "pygments_lexer": "ipython3",
   "version": "3.9.16"
  }
 },
 "nbformat": 4,
 "nbformat_minor": 5
}
